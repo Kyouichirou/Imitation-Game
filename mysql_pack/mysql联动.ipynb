{
 "cells": [
  {
   "cell_type": "code",
   "execution_count": 1,
   "id": "5afc5d22",
   "metadata": {},
   "outputs": [],
   "source": [
    "import mysql.connector as conn\n",
    "import pandas as pd"
   ]
  },
  {
   "cell_type": "markdown",
   "id": "3de015c9",
   "metadata": {},
   "source": [
    "# 直接使用pandas调用mysql的数据\n",
    "\n",
    "支持多种不同的连接器, 不一定需要使用mysql.connector"
   ]
  },
  {
   "cell_type": "code",
   "execution_count": null,
   "id": "8cbc6e9f",
   "metadata": {},
   "outputs": [],
   "source": [
    "# 数据库的连接配置\n",
    "configs = {\n",
    "    \"user\": \"your_id\",\n",
    "    \"host\": \"localhost\",\n",
    "    \"passwd\": \"your_pw\",\n",
    "    \"port\": 3306,\n",
    "    \"database\": \"your_db\"\n",
    "}"
   ]
  },
  {
   "cell_type": "code",
   "execution_count": 2,
   "id": "c4afd307",
   "metadata": {},
   "outputs": [],
   "source": [
    "# 连接数据库\n",
    "my_sql = conn.connect(**configs)"
   ]
  },
  {
   "cell_type": "code",
   "execution_count": null,
   "id": "699e1653",
   "metadata": {},
   "outputs": [],
   "source": [
    "# 通过pandas读取数据\n",
    "my_data = pd.read_sql(\"select * from table limit 10;\", my_sql)"
   ]
  },
  {
   "cell_type": "markdown",
   "id": "cdbfd209",
   "metadata": {},
   "source": [
    "## 表格化数据的输出\n",
    "\n",
    "[prettytable](https://pypi.org/project/prettytable/)\n",
    "\n",
    "> Importing data from a database cursor\n",
    "If you have your table data in a database which you can access using a library which confirms to the Python DB-API (e.g. an SQLite database accessible using the sqlite module), then you can build a PrettyTable using a cursor object, like this:\n",
    "\n",
    "```\n",
    "import sqlite3\n",
    "from prettytable import from_db_cursor\n",
    "connection = sqlite3.connect(\"mydb.db\")\n",
    "cursor = connection.cursor()\n",
    "cursor.execute(\"SELECT field1, field2, field3 FROM my_table\")\n",
    "mytable = from_db_cursor(cursor)\n",
    "```\n",
    "\n",
    "支持直接从数据库的游标中提取数据出来直接打印表格"
   ]
  },
  {
   "cell_type": "code",
   "execution_count": 2,
   "id": "6dfc8733",
   "metadata": {},
   "outputs": [],
   "source": [
    "from prettytable import from_db_cursor"
   ]
  },
  {
   "cell_type": "code",
   "execution_count": null,
   "id": "03d39a86",
   "metadata": {},
   "outputs": [],
   "source": [
    "cursor = my_sql.cursor()"
   ]
  },
  {
   "cell_type": "code",
   "execution_count": null,
   "id": "6c7ccedd",
   "metadata": {},
   "outputs": [],
   "source": [
    "cursor.execute(\"select * from table limit 10;\")"
   ]
  },
  {
   "cell_type": "code",
   "execution_count": null,
   "id": "4c3ab79c",
   "metadata": {},
   "outputs": [],
   "source": [
    "table = from_db_cursor(cursor)"
   ]
  },
  {
   "cell_type": "code",
   "execution_count": null,
   "id": "da327682",
   "metadata": {},
   "outputs": [],
   "source": [
    "# 数据将以表格的形式打印出来\n",
    "print(table)"
   ]
  },
  {
   "cell_type": "code",
   "execution_count": null,
   "id": "350056d2",
   "metadata": {},
   "outputs": [],
   "source": [
    "# 退出mysql\n",
    "cursor.close()"
   ]
  },
  {
   "cell_type": "code",
   "execution_count": null,
   "id": "572faf39",
   "metadata": {},
   "outputs": [],
   "source": [
    "my_sql.cmd_quit()"
   ]
  }
 ],
 "metadata": {
  "kernelspec": {
   "display_name": "Python 3 (ipykernel)",
   "language": "python",
   "name": "python3"
  },
  "language_info": {
   "codemirror_mode": {
    "name": "ipython",
    "version": 3
   },
   "file_extension": ".py",
   "mimetype": "text/x-python",
   "name": "python",
   "nbconvert_exporter": "python",
   "pygments_lexer": "ipython3",
   "version": "3.9.7"
  }
 },
 "nbformat": 4,
 "nbformat_minor": 5
}
